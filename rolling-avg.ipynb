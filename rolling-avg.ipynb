data={}
import csv
with open('fullcounty1.csv', 'r') as f:
    reader = csv.DictReader(f);
    
    for row in reader:
        if(row['population'] == '#N/A'):
            break
        population = int(row['population'])
        date = str(row['ï»¿date'])
        statefip = int(row['state_fips'])
        countyfip = int(row['county_fips'])
        cases = int(row['cases'])
        
        if statefip not in data:
            data[statefip] = {}
            print("create "+str(statefip))
        if countyfip not in data[statefip]:
            data[statefip][countyfip] = []
            
        newdict = {
            'date' : date,
            'cases': cases,
            'population':population,
        }
        
        (data[statefip])[countyfip].append(newdict)
    
