{
 "cells": [
  {
   "cell_type": "code",
   "execution_count": null,
   "metadata": {
    "scrolled": false
   },
   "outputs": [],
   "source": [
    "data={}\n",
    "import csv\n",
    "with open('fullcounty1.csv', 'r') as f:\n",
    "    reader = csv.DictReader(f);\n",
    "    \n",
    "    for row in reader:\n",
    "        if(row['population'] == '#N/A'):\n",
    "            break\n",
    "        population = int(row['population'])\n",
    "        date = str(row['ï»¿date'])\n",
    "        statefip = int(row['state_fips'])\n",
    "        countyfip = int(row['county_fips'])\n",
    "        cases = int(row['cases'])\n",
    "        \n",
    "        if statefip not in data:\n",
    "            data[statefip] = {}\n",
    "            print(\"create \"+str(statefip))\n",
    "        if countyfip not in data[statefip]:\n",
    "            data[statefip][countyfip] = []\n",
    "            \n",
    "        newdict = {\n",
    "            'date' : date,\n",
    "            'cases': cases,\n",
    "            'population':population,\n",
    "        }\n",
    "        \n",
    "        (data[statefip])[countyfip].append(newdict)\n",
    "            \n",
    "    \n"
   ]
  },
  {
   "cell_type": "code",
   "execution_count": null,
   "metadata": {},
   "outputs": [],
   "source": [
    "import json\n",
    "with open('dataz.json', 'w') as f:\n",
    "    json.dump(data, f)"
   ]
  },
  {
   "cell_type": "code",
   "execution_count": null,
   "metadata": {
    "scrolled": true
   },
   "outputs": [],
   "source": [
    "## Step 2: Load the shapes for the counties (features), lookup the labor force\n",
    "## values based on the state/county codes, and set it as part of the feature\n",
    "## properties\n",
    "import pandas as pd\n",
    "geojson1={\"type\":\"FeatureCollection\", \"features\": []}\n",
    "df2 = pd.read_csv('bordercounty.csv', dtype=str)\n",
    "\n",
    "with open('counties2.geojson', 'r') as f:\n",
    "    geojson = json.load(f) \n",
    "    \n",
    "    for feature in geojson['features']:\n",
    "        featureProperties = feature['properties']\n",
    "        statefp = int(featureProperties['STATEFP'])\n",
    "        countyfp = int(featureProperties['COUNTYFP'])\n",
    "        \n",
    "        for indexborder, row in df2.iterrows():\n",
    "            if (statefp == int(row['state_fip'])):\n",
    "                \n",
    "                if (countyfp == int(row['county_fip'])):\n",
    "                    \n",
    "                    if (data.get(statefp) is not None):\n",
    "                    \n",
    "                        temp = 0\n",
    "                        previous = {\n",
    "                            'cases':0,\n",
    "                            'risk':0,\n",
    "                        }\n",
    "                        total = 0\n",
    "                        indx = 0 # 2nd loop starter - 7d rolling\n",
    "                        i=0 # first loop starter - 7d rolling\n",
    "                        mylist=[]\n",
    "                        go = 0 # 2nd if\n",
    "                        for featureData in data.get(statefp).get(countyfp, {}):\n",
    "                        \n",
    "                            featurecopy = json.loads(json.dumps(feature))\n",
    "\n",
    "                            geojson1['features'].append(featurecopy)\n",
    "\n",
    "\n",
    "                            (((geojson1['features'])[-1])['properties'])['date'] = featureData['date']\n",
    "\n",
    "                            if(i==7 and indx==7):\n",
    "                                go = 1\n",
    "                            if(i==6 and indx==6):\n",
    "                                mylist.append(((featureData['cases']-previous['cases'])/featureData['population'])*100000)\n",
    "                                moving = total/7\n",
    "                                if(moving < 0):\n",
    "                                    moving = 0\n",
    "                                if(moving < 1):\n",
    "                                    risk = 1\n",
    "                                elif (moving < 10):\n",
    "                                    risk = 2\n",
    "                                elif (moving < 25):\n",
    "                                    risk = 3\n",
    "                                else:\n",
    "                                    risk = 4\n",
    "                                (((geojson1['features'])[-1])['properties'])['risk'] = risk  \n",
    "                                (((geojson1['features'])[-1])['properties'])['rolling']=moving  \n",
    "                                i += 1\n",
    "                                indx += 1\n",
    "                            if(i<6):\n",
    "                                mylist.append(((featureData['cases']-previous['cases'])/featureData['population'])*100000) #(data[i+1] - data[i])\n",
    "                                total+= mylist[indx]\n",
    "                                i += 1\n",
    "                                indx += 1  \n",
    "                                (((geojson1['features'])[-1])['properties'])['rolling'] = 0 # less than 7 days\n",
    "                                (((geojson1['features'])[-1])['properties'])['risk'] = 1 # green - on track to contain             \n",
    "                            if(go==1):\n",
    "                                mylist.append(((featureData['cases']-previous['cases'])/featureData['population'])*100000)\n",
    "                                total = total - mylist[indx-7] +  mylist[-1] # total - (data[indx+1] - data[indx]) + (data[i+1] - data[i])\n",
    "                                moving = total/7\n",
    "                                if (moving < 0):\n",
    "                                    moving = 0\n",
    "                                if(moving < 1):\n",
    "                                    risk = 1\n",
    "                                elif (moving < 10):\n",
    "                                    risk = 2\n",
    "                                elif (moving < 25):\n",
    "                                    risk = 3\n",
    "                                else:\n",
    "                                    risk = 4\n",
    "                                (((geojson1['features'])[-1])['properties'])['risk'] = risk  \n",
    "                                (((geojson1['features'])[-1])['properties'])['rolling']=moving\n",
    "                                indx += 1\n",
    "                             \n",
    "\n",
    "                            previous = featureData\n",
    "                            previous['risk'] = temp\n",
    "\n",
    "\n"
   ]
  },
  {
   "cell_type": "code",
   "execution_count": null,
   "metadata": {},
   "outputs": [],
   "source": [
    "\n",
    "with open('us_rolling_avg.geojson', 'w') as f:\n",
    "    json.dump(geojson1, f)"
   ]
  },
  {
   "cell_type": "code",
   "execution_count": null,
   "metadata": {},
   "outputs": [],
   "source": [
    "import csv\n",
    "import pandas as pd\n",
    "\n",
    "df3 = pd.read_csv('fullcounty1.csv')\n",
    "df3"
   ]
  },
  {
   "cell_type": "code",
   "execution_count": null,
   "metadata": {},
   "outputs": [],
   "source": [
    "df2 = pd.read_csv('bordercounty.csv', dtype=str)\n",
    "# total new cases in border counties everyday\n",
    "\n",
    "df2"
   ]
  },
  {
   "cell_type": "code",
   "execution_count": null,
   "metadata": {},
   "outputs": [],
   "source": [
    "fip=[]\n",
    "for indx, row in df2.iterrows():\n",
    "    fip.append(row['state_fip']+row['county_fip'])\n"
   ]
  },
  {
   "cell_type": "code",
   "execution_count": null,
   "metadata": {
    "scrolled": false
   },
   "outputs": [],
   "source": [
    "fip"
   ]
  },
  {
   "cell_type": "code",
   "execution_count": null,
   "metadata": {},
   "outputs": [],
   "source": [
    "date=[]\n",
    "statefip=[]\n",
    "countyfip=[]\n",
    "newcases=[]\n",
    "state=[]\n",
    "previousfp='1001'\n",
    "pop=[]\n",
    "for indx, row in df3.iterrows():\n",
    "    if(len(str(row['county_fips']))==1):\n",
    "        myfip=str(row['state_fips'])+'00'+str(row['county_fips'])\n",
    "    elif(len(str(row['county_fips']))==2):\n",
    "        myfip=str(row['state_fips'])+'0'+str(row['county_fips'])\n",
    "    else:\n",
    "        myfip=str(row['state_fips'])+str(row['county_fips'])\n",
    "    if(myfip in fip):\n",
    "        print(myfip)\n",
    "        if(previousfp!=myfip):\n",
    "            newcases.append(int(row['cases']))\n",
    "        else:\n",
    "            new=int(row['cases'])-previouscase\n",
    "            newcases.append(new)\n",
    "        date.append(row['date'])\n",
    "        statefip.append(row['state_fips'])\n",
    "        countyfip.append(row['county_fips'])\n",
    "        state.append(row['state'])\n",
    "        pop.append(int(row['population']))\n",
    "        previouscase=int(row['cases'])\n",
    "        previousfp=myfip\n",
    "       \n",
    "       "
   ]
  },
  {
   "cell_type": "code",
   "execution_count": null,
   "metadata": {},
   "outputs": [],
   "source": [
    "col=['date','state','statefip','countyfip','newcases', 'population']\n",
    "mydf = pd.DataFrame(columns = col)\n",
    "mydf"
   ]
  },
  {
   "cell_type": "code",
   "execution_count": null,
   "metadata": {},
   "outputs": [],
   "source": [
    "mydf['date']=date\n",
    "mydf['state']=state\n",
    "mydf['statefip']=statefip\n",
    "mydf['countyfip']=countyfip\n",
    "mydf['newcases']=newcases\n",
    "mydf['population']=pop\n",
    "mydf"
   ]
  },
  {
   "cell_type": "code",
   "execution_count": null,
   "metadata": {},
   "outputs": [],
   "source": [
    "mydf2=mydf.sort_values(by=['date'])\n",
    "mydf2"
   ]
  },
  {
   "cell_type": "code",
   "execution_count": null,
   "metadata": {},
   "outputs": [],
   "source": [
    "mydf2.head(50)      "
   ]
  },
  {
   "cell_type": "code",
   "execution_count": null,
   "metadata": {
    "scrolled": true
   },
   "outputs": [],
   "source": [
    "mydf2.tail(50)"
   ]
  },
  {
   "cell_type": "code",
   "execution_count": null,
   "metadata": {},
   "outputs": [],
   "source": [
    "previousdate='2/10/20 0:00'\n",
    "sumz=0\n",
    "mydate=[]\n",
    "mysum=[]\n",
    "\n",
    "for indx, row in mydf2.iterrows():\n",
    "    if(row['date']!=previousdate):\n",
    "        mydate.append(previousdate)\n",
    "        mysum.append(sumz)\n",
    "        sumz=row['newcases']\n",
    "        previousdate=row['date']\n",
    "    else:\n",
    "        sumz += row['newcases']\n",
    "mydate.append(previousdate)\n",
    "mysum.append(sumz)"
   ]
  },
  {
   "cell_type": "code",
   "execution_count": null,
   "metadata": {},
   "outputs": [],
   "source": [
    "cols=['date','total_new_cases']\n",
    "mydf3 = pd.DataFrame(columns = cols)\n",
    "mydf3"
   ]
  },
  {
   "cell_type": "code",
   "execution_count": null,
   "metadata": {},
   "outputs": [],
   "source": [
    "mydf3['date']=mydate\n",
    "mydf3['total_new_cases']=mysum\n",
    "mydf3"
   ]
  },
  {
   "cell_type": "code",
   "execution_count": null,
   "metadata": {},
   "outputs": [],
   "source": [
    "mydf3.tail(7)"
   ]
  },
  {
   "cell_type": "code",
   "execution_count": null,
   "metadata": {},
   "outputs": [],
   "source": [
    "mydf3.to_csv('USborder_total.csv')"
   ]
  },
  {
   "cell_type": "code",
   "execution_count": null,
   "metadata": {},
   "outputs": [],
   "source": [
    "mydf4=mydf.sort_values(by=['population'])\n",
    "mydf4"
   ]
  },
  {
   "cell_type": "code",
   "execution_count": null,
   "metadata": {},
   "outputs": [],
   "source": [
    "cal=0\n",
    "for x in mydf4.population.unique():\n",
    "    cal += x\n",
    "print(cal) # total pop in US border counties "
   ]
  },
  {
   "cell_type": "code",
   "execution_count": null,
   "metadata": {},
   "outputs": [],
   "source": [
    "mydf4.population.unique()"
   ]
  }
 ],
 "metadata": {
  "kernelspec": {
   "display_name": "Python 3",
   "language": "python",
   "name": "python3"
  },
  "language_info": {
   "codemirror_mode": {
    "name": "ipython",
    "version": 3
   },
   "file_extension": ".py",
   "mimetype": "text/x-python",
   "name": "python",
   "nbconvert_exporter": "python",
   "pygments_lexer": "ipython3",
   "version": "3.8.5"
  }
 },
 "nbformat": 4,
 "nbformat_minor": 4
}
